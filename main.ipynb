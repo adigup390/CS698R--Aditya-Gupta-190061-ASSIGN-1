{
 "cells": [
  {
   "cell_type": "markdown",
   "source": [
    "# Using our Enviroment\r\n",
    "\r\n",
    "Before using our custom enviroment we must use pip to install it."
   ],
   "metadata": {}
  },
  {
   "cell_type": "code",
   "execution_count": null,
   "source": [
    "!pip install --user --upgrade --editable gym-env"
   ],
   "outputs": [],
   "metadata": {}
  },
  {
   "cell_type": "markdown",
   "source": [
    "It's better to restart the kernel once the pip is done installing.\r\n",
    "\r\n",
    "We now simply import gym, create our environment and run a few steps."
   ],
   "metadata": {}
  },
  {
   "cell_type": "code",
   "execution_count": 5,
   "source": [
    "import gym\r\n",
    "\r\n",
    "env = gym.make('gym_env:bandit-walk-v0', n_states=9)\r\n",
    "\r\n",
    "env.reset()\r\n",
    "for _ in range(10):\r\n",
    "    state, reward, done, _ = env.step(1)\r\n",
    "\r\n",
    "    print(state, reward)\r\n",
    "\r\n",
    "    if done:\r\n",
    "        break"
   ],
   "outputs": [
    {
     "output_type": "stream",
     "name": "stdout",
     "text": [
      "5 0\n",
      "6 0\n",
      "7 0\n",
      "8 1\n"
     ]
    }
   ],
   "metadata": {}
  },
  {
   "cell_type": "markdown",
   "source": [
    "Note that we took only 'go right' actions and as expected we ended up in the success state after 4 steps."
   ],
   "metadata": {}
  }
 ],
 "metadata": {
  "orig_nbformat": 4,
  "language_info": {
   "name": "python",
   "version": "3.9.7",
   "mimetype": "text/x-python",
   "codemirror_mode": {
    "name": "ipython",
    "version": 3
   },
   "pygments_lexer": "ipython3",
   "nbconvert_exporter": "python",
   "file_extension": ".py"
  },
  "kernelspec": {
   "name": "python3",
   "display_name": "Python 3.9.7 64-bit"
  },
  "interpreter": {
   "hash": "27e177b9b1f6ac2b0d75dc30f59ce36168494ff18f9cad54d6acd6a6650ce853"
  }
 },
 "nbformat": 4,
 "nbformat_minor": 2
}